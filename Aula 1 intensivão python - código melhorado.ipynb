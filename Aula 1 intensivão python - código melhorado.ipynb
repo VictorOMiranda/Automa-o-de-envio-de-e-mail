{
 "cells": [
  {
   "cell_type": "code",
   "execution_count": 2,
   "id": "c79e9be2",
   "metadata": {},
   "outputs": [],
   "source": [
    "#importando as bibliotecas\n",
    "\n",
    "import pandas as pd\n",
    "import pyautogui\n",
    "import pyperclip\n",
    "import time\n"
   ]
  },
  {
   "cell_type": "code",
   "execution_count": 14,
   "id": "4a7c6f0c",
   "metadata": {},
   "outputs": [],
   "source": [
    "#Passo 1 : entrando no sistema da empresa\n",
    "pyautogui.hotkey(\"ctrl\",\"t\")\n",
    "pyperclip.copy ('https://drive.google.com/drive/folders/149xknr9JvrlEnhNWO49zPcw0PW5icxga?usp=sharing')\n",
    "pyautogui.hotkey(\"ctrl\",'v')\n",
    "pyautogui.press ('enter')\n",
    "\n",
    "while not pyautogui.locateOnScreen('drive.png', confidence = 0.9):\n",
    "    time.sleep(1)\n",
    "\n",
    "\n",
    "#Passo 2 : navegar no sistema e encontrar a base de dados\n",
    "\n",
    "pyautogui.click(x=283, y=260, clicks=2)\n",
    "time.sleep(2)\n",
    "\n",
    "#Passo 3 : fazer o download da base de vendas\n",
    "\n",
    "pyautogui.click(x=320, y=308) #clicar no arquivo\n",
    "time.sleep(1)\n",
    "pyautogui.click(x=1370, y=169) #clicar nos 3 pontinhos\n",
    "time.sleep(2)\n",
    "pyautogui.click(x=1210, y=522) #clicar no fazer download\n",
    "\n",
    "time.sleep(5)\n",
    "\n",
    "\n",
    "pyautogui.hotkey(\"enter\")"
   ]
  },
  {
   "cell_type": "code",
   "execution_count": null,
   "id": "9fece29a",
   "metadata": {},
   "outputs": [],
   "source": []
  }
 ],
 "metadata": {
  "kernelspec": {
   "display_name": "Python 3 (ipykernel)",
   "language": "python",
   "name": "python3"
  },
  "language_info": {
   "codemirror_mode": {
    "name": "ipython",
    "version": 3
   },
   "file_extension": ".py",
   "mimetype": "text/x-python",
   "name": "python",
   "nbconvert_exporter": "python",
   "pygments_lexer": "ipython3",
   "version": "3.9.12"
  }
 },
 "nbformat": 4,
 "nbformat_minor": 5
}
